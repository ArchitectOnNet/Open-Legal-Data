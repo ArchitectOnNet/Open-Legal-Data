{
 "cells": [
  {
   "cell_type": "markdown",
   "metadata": {},
   "source": [
    "# Open Legal Data\n",
    "\n",
    "Open Legal Data is an open data project that aims to make legal data more available to the public. It tackles the fact that most of the information produced by courts in Germany and in many countries isn't accessible or displayed in a structured format.\n",
    "\n",
    "The projects offers an API through which users can retrieve data on many court dedicions in Germany.\n",
    "\n",
    "Links to the data, the API and the Project, can be found here:\n",
    "\n",
    "1) Github repository: https://github.com/openlegaldata\n",
    "\n",
    "2) Project's website: http://openlegaldata.io/\n",
    "\n",
    "3) API: https://de.openlegaldata.io/\n",
    "\n",
    "# Project's Goal\n",
    "\n",
    "In this project, we'll take advantage of the functionalities of the Open Legal Data API and retrieve data from multiple courts. We'll then clean it and prepare it for analysis. "
   ]
  },
  {
   "cell_type": "markdown",
   "metadata": {},
   "source": [
    "## Importing Libraries"
   ]
  },
  {
   "cell_type": "code",
   "execution_count": 7,
   "metadata": {},
   "outputs": [],
   "source": [
    "import json\n",
    "import requests\n",
    "import pandas as pd"
   ]
  },
  {
   "cell_type": "code",
   "execution_count": 8,
   "metadata": {},
   "outputs": [],
   "source": [
    "# This cell reads the API key\n",
    "# For many usages of the Open Legal Data API a key isn't necessary though.\n",
    "\n",
    "with open(r\"C:\\Users\\celio\\My Projects\\Guided Projects\\Bewerbung\\Open Legal Data\\api_key.txt\") as file:\n",
    "    key = file.read()\n",
    "    \n",
    "headers = {\"Authorization\":key} # The headers argument will be passed to the get method of the requests library"
   ]
  },
  {
   "cell_type": "markdown",
   "metadata": {},
   "source": [
    "## Function To Make Requests"
   ]
  },
  {
   "cell_type": "code",
   "execution_count": 9,
   "metadata": {},
   "outputs": [],
   "source": [
    "def request_and_read(endpoint,page_size,page):\n",
    "    \n",
    "    endpoint = str(endpoint) # Converts endpoint to string\n",
    "    request = requests.get(endpoint,\n",
    "                          headers = headers,\n",
    "                          params = {\"page_size\":page_size,\n",
    "                                   \"page\":page}) # Calls the get method and passes arguments\n",
    "    content = json.loads(request.content) # reads content\n",
    "    results = content[\"results\"] # Accesses key containing the results\n",
    "    return results"
   ]
  },
  {
   "cell_type": "markdown",
   "metadata": {},
   "source": [
    "## Instatiate a Dictionary To Receive Requests\n",
    "\n",
    "The API uses pagination. Even though it's possible to set the page size for a very large number, we'll make requests to multiple pages and every page will be stored in a different key of the dictionary."
   ]
  },
  {
   "cell_type": "code",
   "execution_count": 10,
   "metadata": {},
   "outputs": [
    {
     "data": {
      "text/plain": [
       "{1: [], 2: [], 3: [], 4: [], 5: [], 6: [], 7: [], 8: [], 9: [], 10: []}"
      ]
     },
     "execution_count": 10,
     "metadata": {},
     "output_type": "execute_result"
    }
   ],
   "source": [
    "# The API uses pagination.\n",
    "case_pages = dict.fromkeys(range(1,11),[])\n",
    "case_pages"
   ]
  },
  {
   "cell_type": "markdown",
   "metadata": {},
   "source": [
    "## Make Requests\n",
    "\n",
    "With the read and request function, we can make the requests and store them to keys of the dictionary."
   ]
  },
  {
   "cell_type": "code",
   "execution_count": 11,
   "metadata": {},
   "outputs": [],
   "source": [
    "# This cell might take some time to run\n",
    "page_number = 1\n",
    "for key in case_pages:\n",
    "    case_pages[key] = request_and_read(r\"https://de.openlegaldata.io/api/cases/\",1000,page_number)\n",
    "    page_number+=1"
   ]
  },
  {
   "cell_type": "markdown",
   "metadata": {},
   "source": [
    "# Organize Requests\n",
    "\n",
    "The keys of the case pages dictionary now contain a list of dictionaries. Every dictionary has the following keys:"
   ]
  },
  {
   "cell_type": "code",
   "execution_count": 17,
   "metadata": {},
   "outputs": [
    {
     "name": "stdout",
     "output_type": "stream",
     "text": [
      "dict_keys(['id', 'slug', 'court', 'file_number', 'date', 'created_date', 'updated_date', 'type', 'ecli', 'content'])\n"
     ]
    }
   ],
   "source": [
    "# Accessing the key 1 of the case_pages dictionary\n",
    "# Then accessing the first element of the list of dictionaries contained in this key\n",
    "print(case_pages[1][0].keys())"
   ]
  },
  {
   "cell_type": "markdown",
   "metadata": {},
   "source": [
    " We can now write a function to get the data on the cases. It will unpack the values in every key of the dictionaries contained in the case_pages."
   ]
  },
  {
   "cell_type": "code",
   "execution_count": 18,
   "metadata": {},
   "outputs": [],
   "source": [
    "def get_case_data(a_list):\n",
    "    # Instantiantes a Dictionary\n",
    "    case_info = {\"id\":[],\"slug\":[], \"file_number\":[],\"date\":[],\"created_date\":[],\n",
    "            \"updated_date\":[],\"type\":[],\"ecli\":[],\"content\":[]}\n",
    "    # Loops through the keys of the dictionary\n",
    "    # Appends values to the main dictionary cases_info\n",
    "    for element in a_list:\n",
    "        case_info[\"id\"].append(element[\"id\"])\n",
    "        case_info[\"slug\"].append(element[\"slug\"])\n",
    "        case_info[\"file_number\"].append(element[\"file_number\"])\n",
    "        case_info[\"date\"].append(element[\"date\"])\n",
    "        case_info[\"created_date\"].append(element[\"created_date\"])\n",
    "        case_info[\"updated_date\"].append(element[\"updated_date\"])\n",
    "        case_info[\"type\"].append(element[\"type\"])\n",
    "        case_info[\"ecli\"].append(element[\"ecli\"])\n",
    "        case_info[\"content\"].append(element[\"content\"])\n",
    "        \n",
    "    return case_info #A dictionary containing, in each key, a list of the objects found in case_pages\n",
    "        "
   ]
  },
  {
   "cell_type": "markdown",
   "metadata": {},
   "source": [
    "A for loop to extract the files with the function above."
   ]
  },
  {
   "cell_type": "code",
   "execution_count": 19,
   "metadata": {
    "scrolled": false
   },
   "outputs": [],
   "source": [
    "case_info = dict.fromkeys(range(1,11),[]) # Instatiates a Dictionary to get the info on the cases.\n",
    "\n",
    "for key in case_info: # Loops through the dictionaries in case pages and unpacks the values from each key.\n",
    "    case_info[key] = get_case_data(case_pages[key])\n",
    "    "
   ]
  },
  {
   "cell_type": "markdown",
   "metadata": {},
   "source": [
    "We now have, in every key of the case_info dictionary, data corresponding to each page of the case_pages dictionary. That is, all the results stored in case_pages[1], for example, are now unpacked in case_info[1] and so on.\n",
    "\n",
    "Below, we can see the keys of case_info dictionary."
   ]
  },
  {
   "cell_type": "code",
   "execution_count": 21,
   "metadata": {},
   "outputs": [
    {
     "data": {
      "text/plain": [
       "Index(['id', 'slug', 'file_number', 'date', 'created_date', 'updated_date',\n",
       "       'type', 'ecli', 'content'],\n",
       "      dtype='object')"
      ]
     },
     "execution_count": 21,
     "metadata": {},
     "output_type": "execute_result"
    }
   ],
   "source": [
    "case_info[1].keys()"
   ]
  },
  {
   "cell_type": "markdown",
   "metadata": {},
   "source": [
    "The data, collected as it is, can be transformed into a pandas DataFrame."
   ]
  },
  {
   "cell_type": "code",
   "execution_count": 22,
   "metadata": {},
   "outputs": [],
   "source": [
    "for key in case_info: # Loops through the keys of case_info and transforms every key in a data frame\n",
    "    case_info[key] = pd.DataFrame(case_info[key])"
   ]
  },
  {
   "cell_type": "markdown",
   "metadata": {},
   "source": [
    "Since every key contains the same data, we can simply concatenate the DataFrames."
   ]
  },
  {
   "cell_type": "code",
   "execution_count": 23,
   "metadata": {},
   "outputs": [],
   "source": [
    "cases = pd.concat(case_info) # Vertical concatenation of DataFrames"
   ]
  },
  {
   "cell_type": "markdown",
   "metadata": {},
   "source": [
    " Checking results:"
   ]
  },
  {
   "cell_type": "code",
   "execution_count": 24,
   "metadata": {},
   "outputs": [
    {
     "name": "stdout",
     "output_type": "stream",
     "text": [
      "<class 'pandas.core.frame.DataFrame'>\n",
      "MultiIndex: 10000 entries, (1, 0) to (10, 999)\n",
      "Data columns (total 9 columns):\n",
      "id              10000 non-null int64\n",
      "slug            10000 non-null object\n",
      "file_number     10000 non-null object\n",
      "date            10000 non-null object\n",
      "created_date    10000 non-null object\n",
      "updated_date    10000 non-null object\n",
      "type            10000 non-null object\n",
      "ecli            10000 non-null object\n",
      "content         10000 non-null object\n",
      "dtypes: int64(1), object(8)\n",
      "memory usage: 420.1+ KB\n"
     ]
    }
   ],
   "source": [
    "cases.info()"
   ]
  },
  {
   "cell_type": "markdown",
   "metadata": {},
   "source": [
    "Displaying DataFrame"
   ]
  },
  {
   "cell_type": "code",
   "execution_count": 12,
   "metadata": {},
   "outputs": [
    {
     "data": {
      "text/html": [
       "<div>\n",
       "<style scoped>\n",
       "    .dataframe tbody tr th:only-of-type {\n",
       "        vertical-align: middle;\n",
       "    }\n",
       "\n",
       "    .dataframe tbody tr th {\n",
       "        vertical-align: top;\n",
       "    }\n",
       "\n",
       "    .dataframe thead th {\n",
       "        text-align: right;\n",
       "    }\n",
       "</style>\n",
       "<table border=\"1\" class=\"dataframe\">\n",
       "  <thead>\n",
       "    <tr style=\"text-align: right;\">\n",
       "      <th></th>\n",
       "      <th></th>\n",
       "      <th>id</th>\n",
       "      <th>slug</th>\n",
       "      <th>file_number</th>\n",
       "      <th>date</th>\n",
       "      <th>created_date</th>\n",
       "      <th>updated_date</th>\n",
       "      <th>type</th>\n",
       "      <th>ecli</th>\n",
       "      <th>content</th>\n",
       "    </tr>\n",
       "  </thead>\n",
       "  <tbody>\n",
       "    <tr>\n",
       "      <td rowspan=\"5\" valign=\"top\">0</td>\n",
       "      <td>0</td>\n",
       "      <td>327286</td>\n",
       "      <td>bverfg-2020-03-25-2-bvr-11320</td>\n",
       "      <td>2 BvR 113/20</td>\n",
       "      <td>2020-03-25</td>\n",
       "      <td>2020-04-17T10:00:22Z</td>\n",
       "      <td>2020-04-17T10:06:52Z</td>\n",
       "      <td>Nichtannahmebeschluss</td>\n",
       "      <td>ECLI:DE:BVerfG:2020:rk20200325.2bvr011320</td>\n",
       "      <td>&lt;h2&gt;Tenor&lt;/h2&gt;\\n\\n&lt;div&gt;\\n         &lt;dl class=\"R...</td>\n",
       "    </tr>\n",
       "    <tr>\n",
       "      <td>1</td>\n",
       "      <td>327121</td>\n",
       "      <td>bverfg-2020-03-18-1-bvr-33720</td>\n",
       "      <td>1 BvR 337/20</td>\n",
       "      <td>2020-03-18</td>\n",
       "      <td>2020-04-09T10:00:18Z</td>\n",
       "      <td>2020-04-09T10:08:59Z</td>\n",
       "      <td>Nichtannahmebeschluss</td>\n",
       "      <td>ECLI:DE:BVerfG:2020:rk20200318.1bvr033720</td>\n",
       "      <td>&lt;h2&gt;Tenor&lt;/h2&gt;\\n\\n&lt;div&gt;\\n         &lt;dl class=\"R...</td>\n",
       "    </tr>\n",
       "    <tr>\n",
       "      <td>2</td>\n",
       "      <td>327530</td>\n",
       "      <td>bag-2020-03-12-6-azm-120</td>\n",
       "      <td>6 AZM 1/20</td>\n",
       "      <td>2020-03-12</td>\n",
       "      <td>2020-04-28T10:00:22Z</td>\n",
       "      <td>2020-04-28T10:05:03Z</td>\n",
       "      <td>Beschluss</td>\n",
       "      <td>ECLI:DE:BAG:2020:120320.B.6AZM1.20.0</td>\n",
       "      <td>&lt;h2&gt;Tenor&lt;/h2&gt;\\n\\n&lt;div&gt;\\n         &lt;dl class=\"R...</td>\n",
       "    </tr>\n",
       "    <tr>\n",
       "      <td>3</td>\n",
       "      <td>327118</td>\n",
       "      <td>bverfg-2020-03-11-2-bvl-517</td>\n",
       "      <td>2 BvL 5/17</td>\n",
       "      <td>2020-03-11</td>\n",
       "      <td>2020-04-09T10:00:17Z</td>\n",
       "      <td>2020-04-09T10:08:59Z</td>\n",
       "      <td>Beschluss</td>\n",
       "      <td>ECLI:DE:BVerfG:2020:ls20200311.2bvl000517</td>\n",
       "      <td>&lt;h2&gt;Tenor&lt;/h2&gt;\\n\\n&lt;div&gt;\\n         &lt;dl class=\"R...</td>\n",
       "    </tr>\n",
       "    <tr>\n",
       "      <td>4</td>\n",
       "      <td>326495</td>\n",
       "      <td>bverfg-2020-03-05-2-bvr-210018</td>\n",
       "      <td>2 BvR 2100/18</td>\n",
       "      <td>2020-03-05</td>\n",
       "      <td>2020-03-12T11:00:16Z</td>\n",
       "      <td>2020-03-12T11:05:08Z</td>\n",
       "      <td>Einstweilige Anordnung</td>\n",
       "      <td>ECLI:DE:BVerfG:2020:rk20200305.2bvr210018</td>\n",
       "      <td>&lt;h2&gt;Tenor&lt;/h2&gt;\\n\\n&lt;div&gt;\\n         &lt;dl class=\"R...</td>\n",
       "    </tr>\n",
       "  </tbody>\n",
       "</table>\n",
       "</div>"
      ],
      "text/plain": [
       "         id                            slug    file_number        date  \\\n",
       "0 0  327286   bverfg-2020-03-25-2-bvr-11320   2 BvR 113/20  2020-03-25   \n",
       "  1  327121   bverfg-2020-03-18-1-bvr-33720   1 BvR 337/20  2020-03-18   \n",
       "  2  327530        bag-2020-03-12-6-azm-120     6 AZM 1/20  2020-03-12   \n",
       "  3  327118     bverfg-2020-03-11-2-bvl-517     2 BvL 5/17  2020-03-11   \n",
       "  4  326495  bverfg-2020-03-05-2-bvr-210018  2 BvR 2100/18  2020-03-05   \n",
       "\n",
       "             created_date          updated_date                    type  \\\n",
       "0 0  2020-04-17T10:00:22Z  2020-04-17T10:06:52Z   Nichtannahmebeschluss   \n",
       "  1  2020-04-09T10:00:18Z  2020-04-09T10:08:59Z   Nichtannahmebeschluss   \n",
       "  2  2020-04-28T10:00:22Z  2020-04-28T10:05:03Z               Beschluss   \n",
       "  3  2020-04-09T10:00:17Z  2020-04-09T10:08:59Z               Beschluss   \n",
       "  4  2020-03-12T11:00:16Z  2020-03-12T11:05:08Z  Einstweilige Anordnung   \n",
       "\n",
       "                                          ecli  \\\n",
       "0 0  ECLI:DE:BVerfG:2020:rk20200325.2bvr011320   \n",
       "  1  ECLI:DE:BVerfG:2020:rk20200318.1bvr033720   \n",
       "  2       ECLI:DE:BAG:2020:120320.B.6AZM1.20.0   \n",
       "  3  ECLI:DE:BVerfG:2020:ls20200311.2bvl000517   \n",
       "  4  ECLI:DE:BVerfG:2020:rk20200305.2bvr210018   \n",
       "\n",
       "                                               content  \n",
       "0 0  <h2>Tenor</h2>\\n\\n<div>\\n         <dl class=\"R...  \n",
       "  1  <h2>Tenor</h2>\\n\\n<div>\\n         <dl class=\"R...  \n",
       "  2  <h2>Tenor</h2>\\n\\n<div>\\n         <dl class=\"R...  \n",
       "  3  <h2>Tenor</h2>\\n\\n<div>\\n         <dl class=\"R...  \n",
       "  4  <h2>Tenor</h2>\\n\\n<div>\\n         <dl class=\"R...  "
      ]
     },
     "execution_count": 12,
     "metadata": {},
     "output_type": "execute_result"
    }
   ],
   "source": [
    "cases.head() "
   ]
  },
  {
   "cell_type": "markdown",
   "metadata": {},
   "source": [
    "### Get Court Info\n",
    "\n",
    "If we take a look at the the keys from the case_pages dictionary, we'll see that we skipped one, namely the court key. This was done on purpose, because this key contains a dictionary itself. Also, it comes with a lot of missing data, which will have to be inputated as a part of Data Cleaning. \n",
    "\n",
    "For all those reasons, I chose to go for two separate runs at data collection."
   ]
  },
  {
   "cell_type": "code",
   "execution_count": 28,
   "metadata": {},
   "outputs": [],
   "source": [
    "def get_court_data(a_list): # Similar to get_case_Data, but accesses the court key of the case_pages dictionary\n",
    "    \n",
    "    court_info = {\"id\":[],\"name\":[],\"slug\":[],\"city\":[],\"state\":[],\"jurisdiction\":[],\"level_of_appeal\":[]}\n",
    "    \n",
    "    for element in a_list:\n",
    "        court_info[\"id\"].append(element[\"court\"].get(\"id\"))\n",
    "        court_info[\"name\"].append(element[\"court\"].get(\"name\"))\n",
    "        court_info[\"slug\"].append(element[\"court\"].get(\"slug\"))\n",
    "        court_info[\"city\"].append(element[\"court\"].get(\"city\"))\n",
    "        court_info[\"state\"].append(element[\"court\"].get(\"state\"))\n",
    "        court_info[\"jurisdiction\"].append(element[\"court\"].get(\"jurisdiction\"))\n",
    "        court_info[\"level_of_appeal\"].append(element[\"court\"].get(\"level_of_appeal\"))\n",
    "        \n",
    "    return court_info"
   ]
  },
  {
   "cell_type": "code",
   "execution_count": 41,
   "metadata": {},
   "outputs": [],
   "source": [
    "court_info = dict.fromkeys(range(1,11),[])\n",
    "\n",
    "for key in case_pages:\n",
    "    court_info[key] = get_court_data(case_pages[key])\n",
    "    "
   ]
  },
  {
   "cell_type": "code",
   "execution_count": 42,
   "metadata": {},
   "outputs": [],
   "source": [
    "for key in court_info:\n",
    "    court_info[key] = pd.DataFrame(court_info[key])"
   ]
  },
  {
   "cell_type": "code",
   "execution_count": 43,
   "metadata": {},
   "outputs": [],
   "source": [
    "courts = pd.concat(court_info)"
   ]
  },
  {
   "cell_type": "code",
   "execution_count": 44,
   "metadata": {},
   "outputs": [
    {
     "name": "stdout",
     "output_type": "stream",
     "text": [
      "<class 'pandas.core.frame.DataFrame'>\n",
      "MultiIndex: 10000 entries, (1, 0) to (10, 999)\n",
      "Data columns (total 7 columns):\n",
      "id                 10000 non-null int64\n",
      "name               10000 non-null object\n",
      "slug               10000 non-null object\n",
      "city               2527 non-null float64\n",
      "state              10000 non-null int64\n",
      "jurisdiction       6022 non-null object\n",
      "level_of_appeal    5128 non-null object\n",
      "dtypes: float64(1), int64(2), object(4)\n",
      "memory usage: 420.1+ KB\n"
     ]
    }
   ],
   "source": [
    "courts.info()"
   ]
  },
  {
   "cell_type": "code",
   "execution_count": 45,
   "metadata": {},
   "outputs": [
    {
     "data": {
      "text/html": [
       "<div>\n",
       "<style scoped>\n",
       "    .dataframe tbody tr th:only-of-type {\n",
       "        vertical-align: middle;\n",
       "    }\n",
       "\n",
       "    .dataframe tbody tr th {\n",
       "        vertical-align: top;\n",
       "    }\n",
       "\n",
       "    .dataframe thead th {\n",
       "        text-align: right;\n",
       "    }\n",
       "</style>\n",
       "<table border=\"1\" class=\"dataframe\">\n",
       "  <thead>\n",
       "    <tr style=\"text-align: right;\">\n",
       "      <th></th>\n",
       "      <th></th>\n",
       "      <th>id</th>\n",
       "      <th>name</th>\n",
       "      <th>slug</th>\n",
       "      <th>city</th>\n",
       "      <th>state</th>\n",
       "      <th>jurisdiction</th>\n",
       "      <th>level_of_appeal</th>\n",
       "    </tr>\n",
       "  </thead>\n",
       "  <tbody>\n",
       "    <tr>\n",
       "      <td rowspan=\"5\" valign=\"top\">1</td>\n",
       "      <td>0</td>\n",
       "      <td>3</td>\n",
       "      <td>Bundesverfassungsgericht</td>\n",
       "      <td>bverfg</td>\n",
       "      <td>NaN</td>\n",
       "      <td>2</td>\n",
       "      <td>Verfassungsgerichtsbarkeit</td>\n",
       "      <td>Bundesgericht</td>\n",
       "    </tr>\n",
       "    <tr>\n",
       "      <td>1</td>\n",
       "      <td>3</td>\n",
       "      <td>Bundesverfassungsgericht</td>\n",
       "      <td>bverfg</td>\n",
       "      <td>NaN</td>\n",
       "      <td>2</td>\n",
       "      <td>Verfassungsgerichtsbarkeit</td>\n",
       "      <td>Bundesgericht</td>\n",
       "    </tr>\n",
       "    <tr>\n",
       "      <td>2</td>\n",
       "      <td>7</td>\n",
       "      <td>Bundesarbeitsgericht</td>\n",
       "      <td>bag</td>\n",
       "      <td>NaN</td>\n",
       "      <td>2</td>\n",
       "      <td>Arbeitsgerichtsbarkeit</td>\n",
       "      <td>Bundesgericht</td>\n",
       "    </tr>\n",
       "    <tr>\n",
       "      <td>3</td>\n",
       "      <td>3</td>\n",
       "      <td>Bundesverfassungsgericht</td>\n",
       "      <td>bverfg</td>\n",
       "      <td>NaN</td>\n",
       "      <td>2</td>\n",
       "      <td>Verfassungsgerichtsbarkeit</td>\n",
       "      <td>Bundesgericht</td>\n",
       "    </tr>\n",
       "    <tr>\n",
       "      <td>4</td>\n",
       "      <td>3</td>\n",
       "      <td>Bundesverfassungsgericht</td>\n",
       "      <td>bverfg</td>\n",
       "      <td>NaN</td>\n",
       "      <td>2</td>\n",
       "      <td>Verfassungsgerichtsbarkeit</td>\n",
       "      <td>Bundesgericht</td>\n",
       "    </tr>\n",
       "  </tbody>\n",
       "</table>\n",
       "</div>"
      ],
      "text/plain": [
       "     id                      name    slug  city  state  \\\n",
       "1 0   3  Bundesverfassungsgericht  bverfg   NaN      2   \n",
       "  1   3  Bundesverfassungsgericht  bverfg   NaN      2   \n",
       "  2   7      Bundesarbeitsgericht     bag   NaN      2   \n",
       "  3   3  Bundesverfassungsgericht  bverfg   NaN      2   \n",
       "  4   3  Bundesverfassungsgericht  bverfg   NaN      2   \n",
       "\n",
       "                   jurisdiction level_of_appeal  \n",
       "1 0  Verfassungsgerichtsbarkeit   Bundesgericht  \n",
       "  1  Verfassungsgerichtsbarkeit   Bundesgericht  \n",
       "  2      Arbeitsgerichtsbarkeit   Bundesgericht  \n",
       "  3  Verfassungsgerichtsbarkeit   Bundesgericht  \n",
       "  4  Verfassungsgerichtsbarkeit   Bundesgericht  "
      ]
     },
     "execution_count": 45,
     "metadata": {},
     "output_type": "execute_result"
    }
   ],
   "source": [
    "courts.head()"
   ]
  },
  {
   "cell_type": "markdown",
   "metadata": {},
   "source": [
    "We can now save the \"raw\" files. But before we do this, we can split the cases DataFrame from one of its column. The content column is very heavy and keeping it will take a toll on speed during the data cleaning. So we'll store it in a separate file.\n",
    "\n",
    "Consequently, we'll drop it from the cases file."
   ]
  },
  {
   "cell_type": "code",
   "execution_count": 34,
   "metadata": {},
   "outputs": [],
   "source": [
    "content = cases[[\"id\",\"content\"]] # We keep the id to enable merging the DataFrames together in the future\n",
    "content.to_csv(r\"C:\\Users\\celio\\My Projects\\Guided Projects\\Bewerbung\\Open Legal Data\\content.csv\")"
   ]
  },
  {
   "cell_type": "code",
   "execution_count": 35,
   "metadata": {},
   "outputs": [],
   "source": [
    "courts.to_csv(r\"C:\\Users\\celio\\My Projects\\Guided Projects\\Bewerbung\\Open Legal Data\\courts.csv\")"
   ]
  },
  {
   "cell_type": "code",
   "execution_count": 37,
   "metadata": {},
   "outputs": [],
   "source": [
    "cases = cases.drop(\"content\",axis = 1)\n",
    "cases.to_csv(r\"C:\\Users\\celio\\My Projects\\Guided Projects\\Bewerbung\\Open Legal Data\\cases.csv\")"
   ]
  },
  {
   "cell_type": "markdown",
   "metadata": {},
   "source": [
    "# Cleaning Data\n",
    "\n",
    "The courts DataFrame is much more complicated than the cases DataFrame when it comes to cleaning them. So we'll focus on the court DF for now, since it contains missing data and information that is not very eady to read. \n",
    "\n",
    "## The States Column\n",
    "\n",
    "The states colum contains data about the Bundesländer where the courts are located - actually, it's the geographical extent of their jurisdiction. This is the reason why the code 2, as seen below, stands for \"Bundesrepublik Deutschland, so the whole Germany, and not only Baden-Wüttemberg (code 3), where the Bundesverfassungsgericht and the Bundesverfassungsgericht are located."
   ]
  },
  {
   "cell_type": "code",
   "execution_count": 38,
   "metadata": {},
   "outputs": [
    {
     "data": {
      "text/html": [
       "<div>\n",
       "<style scoped>\n",
       "    .dataframe tbody tr th:only-of-type {\n",
       "        vertical-align: middle;\n",
       "    }\n",
       "\n",
       "    .dataframe tbody tr th {\n",
       "        vertical-align: top;\n",
       "    }\n",
       "\n",
       "    .dataframe thead th {\n",
       "        text-align: right;\n",
       "    }\n",
       "</style>\n",
       "<table border=\"1\" class=\"dataframe\">\n",
       "  <thead>\n",
       "    <tr style=\"text-align: right;\">\n",
       "      <th></th>\n",
       "      <th></th>\n",
       "      <th>id</th>\n",
       "      <th>name</th>\n",
       "      <th>slug</th>\n",
       "      <th>city</th>\n",
       "      <th>state</th>\n",
       "      <th>jurisdiction</th>\n",
       "      <th>level_of_appeal</th>\n",
       "    </tr>\n",
       "  </thead>\n",
       "  <tbody>\n",
       "    <tr>\n",
       "      <td rowspan=\"5\" valign=\"top\">1</td>\n",
       "      <td>0</td>\n",
       "      <td>3</td>\n",
       "      <td>Bundesverfassungsgericht</td>\n",
       "      <td>bverfg</td>\n",
       "      <td>NaN</td>\n",
       "      <td>2</td>\n",
       "      <td>Verfassungsgerichtsbarkeit</td>\n",
       "      <td>Bundesgericht</td>\n",
       "    </tr>\n",
       "    <tr>\n",
       "      <td>1</td>\n",
       "      <td>3</td>\n",
       "      <td>Bundesverfassungsgericht</td>\n",
       "      <td>bverfg</td>\n",
       "      <td>NaN</td>\n",
       "      <td>2</td>\n",
       "      <td>Verfassungsgerichtsbarkeit</td>\n",
       "      <td>Bundesgericht</td>\n",
       "    </tr>\n",
       "    <tr>\n",
       "      <td>2</td>\n",
       "      <td>7</td>\n",
       "      <td>Bundesarbeitsgericht</td>\n",
       "      <td>bag</td>\n",
       "      <td>NaN</td>\n",
       "      <td>2</td>\n",
       "      <td>Arbeitsgerichtsbarkeit</td>\n",
       "      <td>Bundesgericht</td>\n",
       "    </tr>\n",
       "    <tr>\n",
       "      <td>3</td>\n",
       "      <td>3</td>\n",
       "      <td>Bundesverfassungsgericht</td>\n",
       "      <td>bverfg</td>\n",
       "      <td>NaN</td>\n",
       "      <td>2</td>\n",
       "      <td>Verfassungsgerichtsbarkeit</td>\n",
       "      <td>Bundesgericht</td>\n",
       "    </tr>\n",
       "    <tr>\n",
       "      <td>4</td>\n",
       "      <td>3</td>\n",
       "      <td>Bundesverfassungsgericht</td>\n",
       "      <td>bverfg</td>\n",
       "      <td>NaN</td>\n",
       "      <td>2</td>\n",
       "      <td>Verfassungsgerichtsbarkeit</td>\n",
       "      <td>Bundesgericht</td>\n",
       "    </tr>\n",
       "  </tbody>\n",
       "</table>\n",
       "</div>"
      ],
      "text/plain": [
       "     id                      name    slug  city  state  \\\n",
       "1 0   3  Bundesverfassungsgericht  bverfg   NaN      2   \n",
       "  1   3  Bundesverfassungsgericht  bverfg   NaN      2   \n",
       "  2   7      Bundesarbeitsgericht     bag   NaN      2   \n",
       "  3   3  Bundesverfassungsgericht  bverfg   NaN      2   \n",
       "  4   3  Bundesverfassungsgericht  bverfg   NaN      2   \n",
       "\n",
       "                   jurisdiction level_of_appeal  \n",
       "1 0  Verfassungsgerichtsbarkeit   Bundesgericht  \n",
       "  1  Verfassungsgerichtsbarkeit   Bundesgericht  \n",
       "  2      Arbeitsgerichtsbarkeit   Bundesgericht  \n",
       "  3  Verfassungsgerichtsbarkeit   Bundesgericht  \n",
       "  4  Verfassungsgerichtsbarkeit   Bundesgericht  "
      ]
     },
     "execution_count": 38,
     "metadata": {},
     "output_type": "execute_result"
    }
   ],
   "source": [
    "courts.head()"
   ]
  },
  {
   "cell_type": "markdown",
   "metadata": {},
   "source": [
    "Luckily, the Open Legal Data Api has another endpoint to indicate what's the meaning behind each number in the State column."
   ]
  },
  {
   "cell_type": "code",
   "execution_count": 8,
   "metadata": {},
   "outputs": [
    {
     "name": "stdout",
     "output_type": "stream",
     "text": [
      "3 Baden-Württemberg\n",
      "4 Bayern\n",
      "5 Berlin\n",
      "6 Brandenburg\n",
      "7 Bremen\n",
      "2 Bundesrepublik Deutschland\n",
      "19 Europäische Union\n",
      "8 Hamburg\n",
      "9 Hessen\n",
      "10 Mecklenburg-Vorpommern\n",
      "11 Niedersachsen\n",
      "12 Nordrhein-Westfalen\n",
      "13 Rheinland-Pfalz\n",
      "14 Saarland\n",
      "15 Sachsen\n",
      "16 Sachsen-Anhalt\n",
      "17 Schleswig-Holstein\n",
      "18 Thüringen\n",
      "1 Unknown state\n"
     ]
    }
   ],
   "source": [
    "test = requests.get(\"https://de.openlegaldata.io/api/states/\")\n",
    "test_content = json.loads(test.content)\n",
    "for d in test_content[\"results\"]:\n",
    "    print(d[\"id\"],d[\"name\"])"
   ]
  },
  {
   "cell_type": "markdown",
   "metadata": {},
   "source": [
    "We can compare those to the unique values in the state column."
   ]
  },
  {
   "cell_type": "code",
   "execution_count": 9,
   "metadata": {
    "scrolled": true
   },
   "outputs": [
    {
     "data": {
      "text/plain": [
       "array([ 2, 11,  3, 12, 10, 13,  4, 19, 17, 14,  8, 16, 15], dtype=int64)"
      ]
     },
     "execution_count": 9,
     "metadata": {},
     "output_type": "execute_result"
    }
   ],
   "source": [
    "courts[\"state\"].unique()"
   ]
  },
  {
   "cell_type": "markdown",
   "metadata": {},
   "source": [
    "We can now input more comprehensible data to the state column by using the replace() method from Pandas"
   ]
  },
  {
   "cell_type": "code",
   "execution_count": 10,
   "metadata": {},
   "outputs": [],
   "source": [
    "mapper = {3:\"Baden-Württemberg\",\n",
    "         4:\"Bayern\",\n",
    "         5:\"Berlin\",\n",
    "         6:\"Brandenburg\",\n",
    "         7:\"Bremen\",\n",
    "         2:\"Bundesrepublik Deutschland\",\n",
    "         19:\"Europäische Union\",\n",
    "         8:\"Hamburg\",\n",
    "         9:\"Hessen\",\n",
    "         10:\"Mecklenburg-Vorpommern\",\n",
    "         11:\"Niedersachsen\",\n",
    "         12:\"Nordrhein-Westfalen\",\n",
    "         13: \"Rheinland-Pfalz\",\n",
    "         14:\"Saarland\",\n",
    "         15:\"Sachsen\",\n",
    "         16:\"Sachsen-Anhalt\",\n",
    "         17:\"Schleswig-Holstein\",\n",
    "         18:\"Thüringen\"}\n",
    "\n",
    "courts[\"state\"] = courts[\"state\"].replace(mapper)"
   ]
  },
  {
   "cell_type": "markdown",
   "metadata": {},
   "source": [
    "We can verify the changes to check if everything went as expected"
   ]
  },
  {
   "cell_type": "code",
   "execution_count": 46,
   "metadata": {},
   "outputs": [
    {
     "data": {
      "text/html": [
       "<div>\n",
       "<style scoped>\n",
       "    .dataframe tbody tr th:only-of-type {\n",
       "        vertical-align: middle;\n",
       "    }\n",
       "\n",
       "    .dataframe tbody tr th {\n",
       "        vertical-align: top;\n",
       "    }\n",
       "\n",
       "    .dataframe thead th {\n",
       "        text-align: right;\n",
       "    }\n",
       "</style>\n",
       "<table border=\"1\" class=\"dataframe\">\n",
       "  <thead>\n",
       "    <tr style=\"text-align: right;\">\n",
       "      <th></th>\n",
       "      <th></th>\n",
       "      <th>id</th>\n",
       "      <th>name</th>\n",
       "      <th>slug</th>\n",
       "      <th>city</th>\n",
       "      <th>state</th>\n",
       "      <th>jurisdiction</th>\n",
       "      <th>level_of_appeal</th>\n",
       "    </tr>\n",
       "  </thead>\n",
       "  <tbody>\n",
       "    <tr>\n",
       "      <td rowspan=\"5\" valign=\"top\">1</td>\n",
       "      <td>0</td>\n",
       "      <td>3</td>\n",
       "      <td>Bundesverfassungsgericht</td>\n",
       "      <td>bverfg</td>\n",
       "      <td>NaN</td>\n",
       "      <td>2</td>\n",
       "      <td>Verfassungsgerichtsbarkeit</td>\n",
       "      <td>Bundesgericht</td>\n",
       "    </tr>\n",
       "    <tr>\n",
       "      <td>1</td>\n",
       "      <td>3</td>\n",
       "      <td>Bundesverfassungsgericht</td>\n",
       "      <td>bverfg</td>\n",
       "      <td>NaN</td>\n",
       "      <td>2</td>\n",
       "      <td>Verfassungsgerichtsbarkeit</td>\n",
       "      <td>Bundesgericht</td>\n",
       "    </tr>\n",
       "    <tr>\n",
       "      <td>2</td>\n",
       "      <td>7</td>\n",
       "      <td>Bundesarbeitsgericht</td>\n",
       "      <td>bag</td>\n",
       "      <td>NaN</td>\n",
       "      <td>2</td>\n",
       "      <td>Arbeitsgerichtsbarkeit</td>\n",
       "      <td>Bundesgericht</td>\n",
       "    </tr>\n",
       "    <tr>\n",
       "      <td>3</td>\n",
       "      <td>3</td>\n",
       "      <td>Bundesverfassungsgericht</td>\n",
       "      <td>bverfg</td>\n",
       "      <td>NaN</td>\n",
       "      <td>2</td>\n",
       "      <td>Verfassungsgerichtsbarkeit</td>\n",
       "      <td>Bundesgericht</td>\n",
       "    </tr>\n",
       "    <tr>\n",
       "      <td>4</td>\n",
       "      <td>3</td>\n",
       "      <td>Bundesverfassungsgericht</td>\n",
       "      <td>bverfg</td>\n",
       "      <td>NaN</td>\n",
       "      <td>2</td>\n",
       "      <td>Verfassungsgerichtsbarkeit</td>\n",
       "      <td>Bundesgericht</td>\n",
       "    </tr>\n",
       "  </tbody>\n",
       "</table>\n",
       "</div>"
      ],
      "text/plain": [
       "     id                      name    slug  city  state  \\\n",
       "1 0   3  Bundesverfassungsgericht  bverfg   NaN      2   \n",
       "  1   3  Bundesverfassungsgericht  bverfg   NaN      2   \n",
       "  2   7      Bundesarbeitsgericht     bag   NaN      2   \n",
       "  3   3  Bundesverfassungsgericht  bverfg   NaN      2   \n",
       "  4   3  Bundesverfassungsgericht  bverfg   NaN      2   \n",
       "\n",
       "                   jurisdiction level_of_appeal  \n",
       "1 0  Verfassungsgerichtsbarkeit   Bundesgericht  \n",
       "  1  Verfassungsgerichtsbarkeit   Bundesgericht  \n",
       "  2      Arbeitsgerichtsbarkeit   Bundesgericht  \n",
       "  3  Verfassungsgerichtsbarkeit   Bundesgericht  \n",
       "  4  Verfassungsgerichtsbarkeit   Bundesgericht  "
      ]
     },
     "execution_count": 46,
     "metadata": {},
     "output_type": "execute_result"
    }
   ],
   "source": [
    "courts.head()"
   ]
  },
  {
   "cell_type": "code",
   "execution_count": 47,
   "metadata": {},
   "outputs": [
    {
     "data": {
      "text/plain": [
       "array([ 2, 11,  3, 12, 10, 13,  4, 19, 17, 14,  8, 16, 15], dtype=int64)"
      ]
     },
     "execution_count": 47,
     "metadata": {},
     "output_type": "execute_result"
    }
   ],
   "source": [
    "courts[\"state\"].unique()"
   ]
  },
  {
   "cell_type": "markdown",
   "metadata": {},
   "source": [
    "The column still has a little problem though. For the Bundesgerichte (courts who have jurisdiction over the whole german state) the state column does not indicate their location.\n",
    "\n",
    "With some knowledege of the german legal system, we can know where the Bundesgerichte are located and update this information."
   ]
  },
  {
   "cell_type": "code",
   "execution_count": 48,
   "metadata": {},
   "outputs": [],
   "source": [
    "courts.loc[(courts[\"name\"]==\"Bundesverfassungsgericht\")|(courts[\"name\"]==\"Bundesgerichtshof\"),\"state\"] = \"Baden-Württemberg\"\n",
    "courts.loc[courts[\"name\"]==\"Bundesarbeitsgericht\",\"state\"]=\"Thüringen\"\n",
    "courts.loc[courts[\"name\"]==\"Bundesverwaltungsgericht\",\"state\"] = \"Sachsen\"\n",
    "courts.loc[courts[\"name\"]==\"Bundesfinanzhof\",\"state\"]=\"Bayern\"\n",
    "courts.loc[courts[\"name\"]==\"Bundessozialgericht\",\"state\"]=\"Hessen\""
   ]
  },
  {
   "cell_type": "markdown",
   "metadata": {},
   "source": [
    "The DataFrame nows looks like this"
   ]
  },
  {
   "cell_type": "code",
   "execution_count": 49,
   "metadata": {},
   "outputs": [
    {
     "data": {
      "text/html": [
       "<div>\n",
       "<style scoped>\n",
       "    .dataframe tbody tr th:only-of-type {\n",
       "        vertical-align: middle;\n",
       "    }\n",
       "\n",
       "    .dataframe tbody tr th {\n",
       "        vertical-align: top;\n",
       "    }\n",
       "\n",
       "    .dataframe thead th {\n",
       "        text-align: right;\n",
       "    }\n",
       "</style>\n",
       "<table border=\"1\" class=\"dataframe\">\n",
       "  <thead>\n",
       "    <tr style=\"text-align: right;\">\n",
       "      <th></th>\n",
       "      <th></th>\n",
       "      <th>id</th>\n",
       "      <th>name</th>\n",
       "      <th>slug</th>\n",
       "      <th>city</th>\n",
       "      <th>state</th>\n",
       "      <th>jurisdiction</th>\n",
       "      <th>level_of_appeal</th>\n",
       "    </tr>\n",
       "  </thead>\n",
       "  <tbody>\n",
       "    <tr>\n",
       "      <td rowspan=\"10\" valign=\"top\">1</td>\n",
       "      <td>0</td>\n",
       "      <td>3</td>\n",
       "      <td>Bundesverfassungsgericht</td>\n",
       "      <td>bverfg</td>\n",
       "      <td>NaN</td>\n",
       "      <td>Baden-Württemberg</td>\n",
       "      <td>Verfassungsgerichtsbarkeit</td>\n",
       "      <td>Bundesgericht</td>\n",
       "    </tr>\n",
       "    <tr>\n",
       "      <td>1</td>\n",
       "      <td>3</td>\n",
       "      <td>Bundesverfassungsgericht</td>\n",
       "      <td>bverfg</td>\n",
       "      <td>NaN</td>\n",
       "      <td>Baden-Württemberg</td>\n",
       "      <td>Verfassungsgerichtsbarkeit</td>\n",
       "      <td>Bundesgericht</td>\n",
       "    </tr>\n",
       "    <tr>\n",
       "      <td>2</td>\n",
       "      <td>7</td>\n",
       "      <td>Bundesarbeitsgericht</td>\n",
       "      <td>bag</td>\n",
       "      <td>NaN</td>\n",
       "      <td>Thüringen</td>\n",
       "      <td>Arbeitsgerichtsbarkeit</td>\n",
       "      <td>Bundesgericht</td>\n",
       "    </tr>\n",
       "    <tr>\n",
       "      <td>3</td>\n",
       "      <td>3</td>\n",
       "      <td>Bundesverfassungsgericht</td>\n",
       "      <td>bverfg</td>\n",
       "      <td>NaN</td>\n",
       "      <td>Baden-Württemberg</td>\n",
       "      <td>Verfassungsgerichtsbarkeit</td>\n",
       "      <td>Bundesgericht</td>\n",
       "    </tr>\n",
       "    <tr>\n",
       "      <td>4</td>\n",
       "      <td>3</td>\n",
       "      <td>Bundesverfassungsgericht</td>\n",
       "      <td>bverfg</td>\n",
       "      <td>NaN</td>\n",
       "      <td>Baden-Württemberg</td>\n",
       "      <td>Verfassungsgerichtsbarkeit</td>\n",
       "      <td>Bundesgericht</td>\n",
       "    </tr>\n",
       "    <tr>\n",
       "      <td>5</td>\n",
       "      <td>5</td>\n",
       "      <td>Bundesverwaltungsgericht</td>\n",
       "      <td>bverwg</td>\n",
       "      <td>NaN</td>\n",
       "      <td>Sachsen</td>\n",
       "      <td>Verwaltungsgerichtsbarkeit</td>\n",
       "      <td>Bundesgericht</td>\n",
       "    </tr>\n",
       "    <tr>\n",
       "      <td>6</td>\n",
       "      <td>3</td>\n",
       "      <td>Bundesverfassungsgericht</td>\n",
       "      <td>bverfg</td>\n",
       "      <td>NaN</td>\n",
       "      <td>Baden-Württemberg</td>\n",
       "      <td>Verfassungsgerichtsbarkeit</td>\n",
       "      <td>Bundesgericht</td>\n",
       "    </tr>\n",
       "    <tr>\n",
       "      <td>7</td>\n",
       "      <td>3</td>\n",
       "      <td>Bundesverfassungsgericht</td>\n",
       "      <td>bverfg</td>\n",
       "      <td>NaN</td>\n",
       "      <td>Baden-Württemberg</td>\n",
       "      <td>Verfassungsgerichtsbarkeit</td>\n",
       "      <td>Bundesgericht</td>\n",
       "    </tr>\n",
       "    <tr>\n",
       "      <td>8</td>\n",
       "      <td>3</td>\n",
       "      <td>Bundesverfassungsgericht</td>\n",
       "      <td>bverfg</td>\n",
       "      <td>NaN</td>\n",
       "      <td>Baden-Württemberg</td>\n",
       "      <td>Verfassungsgerichtsbarkeit</td>\n",
       "      <td>Bundesgericht</td>\n",
       "    </tr>\n",
       "    <tr>\n",
       "      <td>9</td>\n",
       "      <td>3</td>\n",
       "      <td>Bundesverfassungsgericht</td>\n",
       "      <td>bverfg</td>\n",
       "      <td>NaN</td>\n",
       "      <td>Baden-Württemberg</td>\n",
       "      <td>Verfassungsgerichtsbarkeit</td>\n",
       "      <td>Bundesgericht</td>\n",
       "    </tr>\n",
       "  </tbody>\n",
       "</table>\n",
       "</div>"
      ],
      "text/plain": [
       "     id                      name    slug  city              state  \\\n",
       "1 0   3  Bundesverfassungsgericht  bverfg   NaN  Baden-Württemberg   \n",
       "  1   3  Bundesverfassungsgericht  bverfg   NaN  Baden-Württemberg   \n",
       "  2   7      Bundesarbeitsgericht     bag   NaN          Thüringen   \n",
       "  3   3  Bundesverfassungsgericht  bverfg   NaN  Baden-Württemberg   \n",
       "  4   3  Bundesverfassungsgericht  bverfg   NaN  Baden-Württemberg   \n",
       "  5   5  Bundesverwaltungsgericht  bverwg   NaN            Sachsen   \n",
       "  6   3  Bundesverfassungsgericht  bverfg   NaN  Baden-Württemberg   \n",
       "  7   3  Bundesverfassungsgericht  bverfg   NaN  Baden-Württemberg   \n",
       "  8   3  Bundesverfassungsgericht  bverfg   NaN  Baden-Württemberg   \n",
       "  9   3  Bundesverfassungsgericht  bverfg   NaN  Baden-Württemberg   \n",
       "\n",
       "                   jurisdiction level_of_appeal  \n",
       "1 0  Verfassungsgerichtsbarkeit   Bundesgericht  \n",
       "  1  Verfassungsgerichtsbarkeit   Bundesgericht  \n",
       "  2      Arbeitsgerichtsbarkeit   Bundesgericht  \n",
       "  3  Verfassungsgerichtsbarkeit   Bundesgericht  \n",
       "  4  Verfassungsgerichtsbarkeit   Bundesgericht  \n",
       "  5  Verwaltungsgerichtsbarkeit   Bundesgericht  \n",
       "  6  Verfassungsgerichtsbarkeit   Bundesgericht  \n",
       "  7  Verfassungsgerichtsbarkeit   Bundesgericht  \n",
       "  8  Verfassungsgerichtsbarkeit   Bundesgericht  \n",
       "  9  Verfassungsgerichtsbarkeit   Bundesgericht  "
      ]
     },
     "execution_count": 49,
     "metadata": {},
     "output_type": "execute_result"
    }
   ],
   "source": [
    "courts.head(10)"
   ]
  },
  {
   "cell_type": "markdown",
   "metadata": {},
   "source": [
    "## The City Column\n",
    "\n",
    "The city column also contains a code for each city. However, it also contains null values for courts of the state level."
   ]
  },
  {
   "cell_type": "code",
   "execution_count": 50,
   "metadata": {},
   "outputs": [
    {
     "data": {
      "text/plain": [
       "array([ nan, 297., 375., 325., 446., 290.,  42., 413., 380., 109.,  84.,\n",
       "        90., 408., 110.,  38., 188., 158., 117., 423., 620., 647., 168.,\n",
       "       541., 184., 342., 608., 632., 471., 283., 127., 384., 430., 449.,\n",
       "        95., 485., 509., 302., 407., 103., 467., 233., 616., 120., 465.,\n",
       "       537., 115., 291., 551., 378., 625., 135., 121., 379., 479., 289.,\n",
       "       376., 164., 622., 476., 524., 555., 355., 538., 394., 294., 393.,\n",
       "       556., 531., 633., 142., 123., 116., 150., 606., 186., 155., 189.,\n",
       "       151., 132., 145., 166., 176., 639., 631., 629.,  40.,  73., 602.,\n",
       "        68., 601., 635., 623., 550., 364., 543., 111., 610.,  55., 514.,\n",
       "       534., 286.])"
      ]
     },
     "execution_count": 50,
     "metadata": {},
     "output_type": "execute_result"
    }
   ],
   "source": [
    "courts[\"city\"].unique()"
   ]
  },
  {
   "cell_type": "markdown",
   "metadata": {},
   "source": [
    "The API from Open Legal data offers information to which code corresponds to which city in the \"cities_read\" endpoint, however for the purposes of cleaning this data, it's easier to extract the city names from the name of the courts with local jurisdiction.\n",
    "\n",
    "Those have the prefix Amtsgericht, Arbeitsgericht, Landgericht, Sozialgericht or Verwaltungsgericht. It's also possible to extract the location city from Oberlandesgericht, even though they have jurisdiction over the whole Bundesland."
   ]
  },
  {
   "cell_type": "markdown",
   "metadata": {},
   "source": [
    "Since many courts bare the name of their city where they are located in their names, we'll retrieve this information with regular expressions.\n",
    "\n",
    "In this oportunity, we'll also fill some missing values in the jurisdiction column."
   ]
  },
  {
   "cell_type": "code",
   "execution_count": 53,
   "metadata": {},
   "outputs": [
    {
     "data": {
      "text/plain": [
       "3978"
      ]
     },
     "execution_count": 53,
     "metadata": {},
     "output_type": "execute_result"
    }
   ],
   "source": [
    "courts[\"jurisdiction\"].isnull().sum()"
   ]
  },
  {
   "cell_type": "code",
   "execution_count": 54,
   "metadata": {
    "scrolled": false
   },
   "outputs": [],
   "source": [
    "names = [\"Amtsgericht\",\"Arbeitsgericht\",\"Landgericht\",\"Oberlandesgericht\",\"Sozialgericht\",\"Verwaltungsgericht\"]\n",
    "for n in names:\n",
    "    regex = r\"(?<={} )(.+)\".format(n)\n",
    "    rows =courts.loc[courts[\"name\"].str.contains(n)]\n",
    "    city_names = rows[\"name\"].str.extract(regex)[0]\n",
    "    courts.loc[courts[\"name\"].str.contains(n),\"city\"] = city_names\n",
    "    if n == \"Amtsgericht\":\n",
    "        courts.loc[courts[\"name\"].str.contains(n),\"jurisdiction\"]= \"Ordentliche Gerichtsbarkeit\"\n",
    "    elif n ==\"Arbeitsgericht\":\n",
    "        courts.loc[courts[\"name\"].str.contains(n),\"jurisdiction\"]= \"Arbeitsgerichtbarkeit\"\n",
    "    elif n == \"Landgericht\":\n",
    "        courts.loc[courts[\"name\"].str.contains(n),\"jurisdiction\"] = \"Ordentliche Gerichtsbarkeit\"\n",
    "    elif n == \"Oberlandesgericht\":\n",
    "        courts.loc[courts[\"name\"].str.contains(n),\"jurisdiction\"] = \"Ordentliche Gerichtsbarkeit\"\n",
    "    elif n == \"Sozialgericht\":\n",
    "        courts.loc[courts[\"name\"].str.contains(n),\"jurisdiction\"] = \"Sozialgericht\"\n",
    "    elif n == \"Verwaltungsgericht\":\n",
    "        courts.loc[courts[\"name\"].str.contains(n),\"jurisdiction\"] = \"Verwaltungsgerichtbarkeit\"\n",
    "    "
   ]
  },
  {
   "cell_type": "code",
   "execution_count": 56,
   "metadata": {},
   "outputs": [
    {
     "data": {
      "text/plain": [
       "3273"
      ]
     },
     "execution_count": 56,
     "metadata": {},
     "output_type": "execute_result"
    }
   ],
   "source": [
    "courts[\"jurisdiction\"].isnull().sum()"
   ]
  },
  {
   "cell_type": "markdown",
   "metadata": {},
   "source": [
    "We can take a look at the values of the city column now."
   ]
  },
  {
   "cell_type": "code",
   "execution_count": 57,
   "metadata": {},
   "outputs": [
    {
     "data": {
      "text/plain": [
       "array([nan, 'Aurich', 'Karlsruhe', 'Lüneburg', 'Hannover', 'Köln',\n",
       "       'Schwerin', 'Stuttgart', 413.0, 'Aachen', 'Freiburg',\n",
       "       'Sigmaringen', 'München', 'Düsseldorf', 'Duisburg', 110.0, 'Celle',\n",
       "       'Heidelberg', 'München II', 'Augsburg', 'Hamm', 'Gelsenkirchen',\n",
       "       'Zeitz', 'Regensburg', 'Neustadt an der Weinstraße', 'Würzburg',\n",
       "       'Oldenburg (Oldenburg)', 'Braunschweig', 'Magdeburg', 'Kiel',\n",
       "       'Münster', 'Greifswald', 'Ebersberg', 'Arnsberg', 'Hagen',\n",
       "       'Oldenburg', 'Langenfeld', 'Tübingen', 'Rheine', 'Wuppertal',\n",
       "       'Dortmund', 'Waldshut-Tiengen', 'Koblenz', 'Mönchengladbach',\n",
       "       'Hamburg', 'Rostock', 'Stendal', 233.0, 'Bamberg', 'Minden',\n",
       "       'Ludwigshafen am Rhein', 'Ansbach', 'Stralsund', 'Trier',\n",
       "       'Zweibrücken', 'Nürnberg', 'Göttingen', 'Bad Segeberg', 'Fürth',\n",
       "       'Bayreuth', 379.0, 'Ratingen', 647.0, 471.0, 446.0, 'Osnabrück',\n",
       "       'Halle', 'Paderborn', 'Frankenthal (Pfalz)', 'Stade', 'Mainz',\n",
       "       'Bonn', 294.0, 'Bochum', 556.0, 'Lübeck', 158.0, 'Ingolstadt',\n",
       "       'Coburg', 'Naumburg', 164.0, 'Aschaffenburg', 'Landsberg am Lech',\n",
       "       'Halle (Saale)', 'Weiden', 'Memmingen', 'Nürnberg-Fürth',\n",
       "       'Landshut', 'Freising', 'Kempten (Allgäu)', 'Passau',\n",
       "       'Tirschenreuth', 'Pinneberg', 'Itzehoe', 'Flensburg', 'Heilbronn',\n",
       "       'Reutlingen', 'Eisleben', 'Pforzheim', 'Dessau-Roßlau',\n",
       "       'Neumünster', 623.0, 'Speyer', 'Verden (Aller)', 'Pirmasens',\n",
       "       'Ellwangen', 'Mannheim', 'Bad Kreuznach', 'Landau in der Pfalz',\n",
       "       'Neubrandenburg'], dtype=object)"
      ]
     },
     "execution_count": 57,
     "metadata": {},
     "output_type": "execute_result"
    }
   ],
   "source": [
    "courts[\"city\"].unique()"
   ]
  },
  {
   "cell_type": "markdown",
   "metadata": {},
   "source": [
    "We can see that we got two values for the same city on Halle and Halle(Saale), as well as München und München II and Oldenburg and Oldenburg(Oldenburg). We can unify values."
   ]
  },
  {
   "cell_type": "code",
   "execution_count": 58,
   "metadata": {},
   "outputs": [],
   "source": [
    "courts.loc[courts[\"city\"]==\"Halle (Saale)\",\"city\"]=\"Halle\"\n",
    "courts.loc[courts[\"city\"]== \"München II\",\"city\"]=\"München\"\n",
    "courts.loc[courts[\"city\"]== \"Oldenburg (Oldenburg)\",\"city\"]=\"Oldenburg\""
   ]
  },
  {
   "cell_type": "markdown",
   "metadata": {},
   "source": [
    "There are still NaN values, of which we'll take care now.\n",
    "\n",
    "Those values are mostly values for state courts - or courts located in city states - to which no city is assigned to. However, with some knowledge of the german legal system (and Google - mostly Google,actually) we can inputate those values."
   ]
  },
  {
   "cell_type": "code",
   "execution_count": 59,
   "metadata": {},
   "outputs": [
    {
     "data": {
      "text/plain": [
       "Bundesgerichtshof                                    1528\n",
       "Europäischer Gerichtshof                              851\n",
       "Bundesverwaltungsgericht                              705\n",
       "Bundesarbeitsgericht                                  488\n",
       "Bundesfinanzhof                                       483\n",
       "Bundesverfassungsgericht                              478\n",
       "Bundessozialgericht                                   450\n",
       "Niedersächsisches Oberverwaltungsgericht              315\n",
       "Schleswig-Holsteinisches Verwaltungsgericht           279\n",
       "Oberverwaltungsgericht Nordrhein-Westfalen            177\n",
       "Landesarbeitsgericht Rheinland-Pfalz                  167\n",
       "Oberverwaltungsgericht des Landes Sachsen-Anhalt      137\n",
       "Verwaltungsgerichtshof Baden-Württemberg              135\n",
       "Oberverwaltungsgericht Rheinland-Pfalz                131\n",
       "Schleswig Holsteinisches Oberverwaltungsgericht       126\n",
       "Hanseatisches Oberlandesgericht                        82\n",
       "Hamburgisches Oberverwaltungsgericht                   74\n",
       "Landessozialgericht Sachsen-Anhalt                     60\n",
       "Landesarbeitsgericht Niedersachsen                     59\n",
       "Landesarbeitsgericht Hamburg                           59\n",
       "Landessozialgericht Niedersachsen-Bremen               58\n",
       "Landessozialgericht Baden-Württemberg                  51\n",
       "Landesarbeitsgericht Mecklenburg-Vorpommern            50\n",
       "Oberverwaltungsgericht Mecklenburg-Vorpommern          46\n",
       "Schleswig-Holsteinisches Oberlandesgericht             41\n",
       "Schleswig-Holsteinisches Landessozialgericht           40\n",
       "Landessozialgericht Mecklenburg-Vorpommern             37\n",
       "Landesarbeitsgericht Sachsen-Anhalt                    34\n",
       "Landesarbeitsgericht Schleswig-Holstein                25\n",
       "Landessozialgericht Rheinland-Pfalz                    17\n",
       "Sächsisches Oberverwaltungsgericht                     13\n",
       "Oberverwaltungsgericht des Saarlandes                   9\n",
       "Landessozialgericht NRW                                 8\n",
       "Landesarbeitsgericht Düsseldorf                         5\n",
       "Schleswig-Holsteinisches Landesverfassungsgericht       4\n",
       "Verfassungsgerichtshof Rheinland-Pfalz                  4\n",
       "Landesarbeitsgericht Hamm                               4\n",
       "Sächsisches Landesarbeitsgericht                        2\n",
       "Landesarbeitsgericht Köln                               2\n",
       "Name: name, dtype: int64"
      ]
     },
     "execution_count": 59,
     "metadata": {},
     "output_type": "execute_result"
    }
   ],
   "source": [
    "courts.loc[courts[\"city\"].isnull(),\"name\"].value_counts().sort_values(ascending = False)"
   ]
  },
  {
   "cell_type": "code",
   "execution_count": 60,
   "metadata": {
    "scrolled": false
   },
   "outputs": [],
   "source": [
    "# It was boring to type this all in\n",
    "# But it was also efficient\n",
    "court_mapper = {\"Bundesgerichtshof\":\"Karlsruhe\", \"Europäischer Gerichtshof\":\"Luxemburg\",\n",
    "               \"Bundesverwaltungsgericht\":\"Leipzig\",\"Bundesfinanzhof\":\"München\",\n",
    "               \"Bundesverfassungsgericht\":\"Karlsruhe\",\"Bundesarbeitsgericht\":\"Erfurt\",\n",
    "               \"Bundessozialgericht\":\"Kassel\",\"Niedersächsisches Oberverwaltungsgericht\":\"Lüneburg\",\n",
    "               \"Schleswig-Holsteinisches Verwaltungsgericht\":\"Schleswig\",\n",
    "               \"Landesarbeitsgericht Rheinland-Pfalz\":\"Mainz\",\n",
    "               \"Oberverwaltungsgericht Nordrhein-Westfalen\":\"Münster\",\n",
    "               \"Oberverwaltungsgericht des Landes Sachsen-Anhalt\":\"Magdeburg\",\n",
    "               \"Oberverwaltungsgericht Rheinland-Pfalz\":\"Koblenz\",\n",
    "               \"Schleswig Holsteinisches Oberverwaltungsgericht\":\"Schleswig\",\n",
    "               \"Verwaltungsgerichtshof Baden-Württemberg\":\"Mannheim\",\n",
    "               \"Finanzgericht Hamburg\":\"Hamburg\",\"Hanseatisches Oberlandesgericht\":\"Hamburg\",\n",
    "               \"Hamburgisches Oberverwaltungsgericht\":\"Hamburg\",\n",
    "               \"Landessozialgericht Sachsen-Anhalt\":\"Halle\",\n",
    "               \"Landessozialgericht Niedersachsen-Bremen\":\"Celle\",\n",
    "               \"Landesarbeitsgericht Hamburg\":\"Bremen\",\"Landesarbeitsgericht Niedersachsen\":\"Hannover\",\n",
    "               \"Landesarbeitsgericht Mecklenburg-Vorpommern\":\"Rostock\",\n",
    "               \"Oberverwaltungsgericht Mecklenburg-Vorpommern\":\"Greifswald\",\n",
    "               \"Landessozialgericht Baden-Württemberg\":\"Stuttgart\",\n",
    "               \"Schleswig-Holsteinisches Oberlandesgericht\":\"Schleswig\",\n",
    "               \"Schleswig-Holsteinisches Landessozialgericht\":\"Schleswig\",\n",
    "               \"Niedersächsisches Finanzgericht\":\"Hannover\",\n",
    "               \"Landesarbeitsgericht Sachsen-Anhalt\":\"Halle\",\n",
    "               \"Landessozialgericht Mecklenburg-Vorpommern\":\"Neustrelitz\",\n",
    "               \"Finanzgericht Baden-Württemberg\":\"Stuttgart\",\n",
    "               \"Finanzgericht Rheinland-Pfalz\":\"Neustadt an der Weinstraße\",\n",
    "               \"Landesarbeitsgericht Schleswig-Holstein\":\"Kiel\",\n",
    "               \"Landessozialgericht Rheinland-Pfalz\":\"Mainz\",\n",
    "               \"Sächsisches Oberverwaltungsgericht\":\"Bautzen\",\n",
    "               \"Finanzgericht des Landes Sachsen-Anhalt\":\"Dessau-Roßlau\",\n",
    "               \"Finanzgericht München\":\"München\",\"Oberverwaltungsgericht des Saarlandes\":\"Saarlouis\",\n",
    "                \"Finanzgericht Mecklenburg-Vorpommern\":\"Greifswald\",\n",
    "                \"Landessozialgericht NRW\":\"Essen\",\"Finanzgericht Düsseldorf\":\"Düsseldorf\",\n",
    "                \"Finanzgericht Münster\":\"Münster\",\"Schleswig-Holsteinisches Finanzgericht\":\"Kiel\",\n",
    "                \"Landesarbeitsgericht Düsseldorf\":\"Düsseldorf\",\n",
    "                \"Schleswig-Holsteinisches Landesverfassungsgericht\":\"Schleswig\",\n",
    "                \"Landesarbeitsgericht Hamm\":\"Hamm\",\"Finanzgericht Nürnberg\":\"Nürnberg\",\n",
    "                \"Verfassungsgerichtshof Rheinland-Pfalz\":\"Koblenz\",\n",
    "                \"Landesarbeitsgericht Köln\":\"Köln\",\n",
    "                \"Sächsisches Landesarbeitsgericht\":\"Chemnitz\",\n",
    "                \"Rheinschifffahrtsobergericht Köln\":\"Köln\"}"
   ]
  },
  {
   "cell_type": "code",
   "execution_count": 61,
   "metadata": {},
   "outputs": [],
   "source": [
    "for key in court_mapper:\n",
    "    courts.loc[courts[\"name\"]==key,\"city\"]=court_mapper[key]"
   ]
  },
  {
   "cell_type": "markdown",
   "metadata": {},
   "source": [
    "We can verify the changes we've made so far:"
   ]
  },
  {
   "cell_type": "code",
   "execution_count": 62,
   "metadata": {},
   "outputs": [
    {
     "data": {
      "text/plain": [
       "array(['Aachen', 'Ansbach', 'Arnsberg', 'Aschaffenburg', 'Augsburg',\n",
       "       'Aurich', 'Bad Kreuznach', 'Bad Segeberg', 'Bamberg', 'Bautzen',\n",
       "       'Bayreuth', 'Bochum', 'Bonn', 'Braunschweig', 'Bremen', 'Celle',\n",
       "       'Chemnitz', 'Coburg', 'Dessau-Roßlau', 'Dortmund', 'Duisburg',\n",
       "       'Düsseldorf', 'Ebersberg', 'Eisleben', 'Ellwangen', 'Erfurt',\n",
       "       'Essen', 'Flensburg', 'Frankenthal (Pfalz)', 'Freiburg',\n",
       "       'Freising', 'Fürth', 'Gelsenkirchen', 'Greifswald', 'Göttingen',\n",
       "       'Hagen', 'Halle', 'Hamburg', 'Hamm', 'Hannover', 'Heidelberg',\n",
       "       'Heilbronn', 'Ingolstadt', 'Itzehoe', 'Karlsruhe', 'Kassel',\n",
       "       'Kempten (Allgäu)', 'Kiel', 'Koblenz', 'Köln',\n",
       "       'Landau in der Pfalz', 'Landsberg am Lech', 'Landshut',\n",
       "       'Langenfeld', 'Leipzig', 'Ludwigshafen am Rhein', 'Luxemburg',\n",
       "       'Lübeck', 'Lüneburg', 'Magdeburg', 'Mainz', 'Mannheim',\n",
       "       'Memmingen', 'Minden', 'Mönchengladbach', 'München', 'Münster',\n",
       "       'Naumburg', 'Neubrandenburg', 'Neumünster',\n",
       "       'Neustadt an der Weinstraße', 'Neustrelitz', 'Nürnberg',\n",
       "       'Nürnberg-Fürth', 'Oldenburg', 'Osnabrück', 'Paderborn', 'Passau',\n",
       "       'Pforzheim', 'Pinneberg', 'Pirmasens', 'Ratingen', 'Regensburg',\n",
       "       'Reutlingen', 'Rheine', 'Rostock', 'Saarlouis', 'Schleswig',\n",
       "       'Schwerin', 'Sigmaringen', 'Speyer', 'Stade', 'Stendal',\n",
       "       'Stralsund', 'Stuttgart', 'Tirschenreuth', 'Trier', 'Tübingen',\n",
       "       'Verden (Aller)', 'Waldshut-Tiengen', 'Weiden', 'Wuppertal',\n",
       "       'Würzburg', 'Zeitz', 'Zweibrücken'], dtype=object)"
      ]
     },
     "execution_count": 62,
     "metadata": {},
     "output_type": "execute_result"
    }
   ],
   "source": [
    "courts[\"city\"].sort_values().unique()"
   ]
  },
  {
   "cell_type": "markdown",
   "metadata": {},
   "source": [
    "## The Jurisdiction Column\n",
    "\n",
    "Part of the jurisdiction column was already fixed when we organized the data in the city column. However, there is still missing data in this column"
   ]
  },
  {
   "cell_type": "code",
   "execution_count": 63,
   "metadata": {
    "scrolled": true
   },
   "outputs": [
    {
     "data": {
      "text/plain": [
       "Bundesgerichtshof                           1528\n",
       "Europäischer Gerichtshof                     851\n",
       "Bundesfinanzhof                              483\n",
       "Niedersächsisches Oberverwaltungsgericht     315\n",
       "Landesarbeitsgericht Niedersachsen            59\n",
       "Niedersächsisches Finanzgericht               36\n",
       "Rheinschifffahrtsobergericht Köln              1\n",
       "Name: name, dtype: int64"
      ]
     },
     "execution_count": 63,
     "metadata": {},
     "output_type": "execute_result"
    }
   ],
   "source": [
    "courts.loc[courts[\"jurisdiction\"].isnull(),\"name\"].value_counts()"
   ]
  },
  {
   "cell_type": "markdown",
   "metadata": {},
   "source": [
    "Again, knowing the german legal system helps and we can insert the missing values."
   ]
  },
  {
   "cell_type": "code",
   "execution_count": 64,
   "metadata": {},
   "outputs": [],
   "source": [
    "courts.loc[courts[\"name\"]==\"Bundesgerichtshof\",\"jurisdiction\"] = \"Ordentliche Gerichtsbarkeit\"\n",
    "courts.loc[courts[\"name\"]==\"Bundesfinanzhof\",\"jurisdiction\"] = \"Steuer- und Zollsachen\"\n",
    "courts.loc[courts[\"name\"] == \"Niedersächsisches Oberverwaltungsgericht\",\"jurisdiction\"] = \"Verwaltungsgerichtbarkeit\"\n",
    "courts.loc[courts[\"name\"]==\"Landesarbeitsgericht Niedersachsen\",\"jurisdiction\"] = \"Arbeitsgerichtbarkeit\"\n",
    "courts.loc[courts[\"name\"]==\"Niedersächsisches Finanzgericht\",\"jurisdiction\"] = \"Steuer- und Zollsachen\"\n",
    "courts.loc[courts[\"name\"]==\"Europäischer Gerichtshof\",\"jurisdiction\"] = \"Europarecht\""
   ]
  },
  {
   "cell_type": "code",
   "execution_count": 65,
   "metadata": {},
   "outputs": [
    {
     "data": {
      "text/plain": [
       "Rheinschifffahrtsobergericht Köln    1\n",
       "Name: name, dtype: int64"
      ]
     },
     "execution_count": 65,
     "metadata": {},
     "output_type": "execute_result"
    }
   ],
   "source": [
    "courts[courts[\"jurisdiction\"].isnull()][\"name\"].value_counts()"
   ]
  },
  {
   "cell_type": "markdown",
   "metadata": {},
   "source": [
    "There is the Rheinschiffahrtobergericht Köln, which, judging by it's name is second instance court for quarrels about navigation on the Rhein river. What type of jurisdiction this is though is not known to me.\n",
    "\n",
    "As for the rest of the DataFrame, we can save it as a clean version."
   ]
  },
  {
   "cell_type": "code",
   "execution_count": 70,
   "metadata": {},
   "outputs": [],
   "source": [
    "courts.to_csv(r\"C:\\Users\\celio\\My Projects\\Guided Projects\\Bewerbung\\Open Legal Data\\courts_clean.csv\")\n",
    "cases.to_csv(r\"C:\\Users\\celio\\My Projects\\Guided Projects\\Bewerbung\\Open Legal Data\\cases_clean.csv\")"
   ]
  },
  {
   "cell_type": "markdown",
   "metadata": {},
   "source": [
    "# Combining DataFrames\n",
    "\n",
    "As last step, we can combine both datasets, in order to have all the information gathered in one place. "
   ]
  },
  {
   "cell_type": "code",
   "execution_count": 71,
   "metadata": {},
   "outputs": [],
   "source": [
    "merged = pd.concat([cases,courts],axis = 1)"
   ]
  },
  {
   "cell_type": "markdown",
   "metadata": {},
   "source": [
    "The result looks like this:"
   ]
  },
  {
   "cell_type": "code",
   "execution_count": 75,
   "metadata": {},
   "outputs": [
    {
     "name": "stdout",
     "output_type": "stream",
     "text": [
      "<class 'pandas.core.frame.DataFrame'>\n",
      "MultiIndex: 10000 entries, (1, 0) to (10, 999)\n",
      "Data columns (total 15 columns):\n",
      "case_id            10000 non-null int64\n",
      "case_slug          10000 non-null object\n",
      "file_number        10000 non-null object\n",
      "date               10000 non-null object\n",
      "created_date       10000 non-null object\n",
      "updated_date       10000 non-null object\n",
      "type               10000 non-null object\n",
      "ecli               10000 non-null object\n",
      "court_id           10000 non-null int64\n",
      "court_name         10000 non-null object\n",
      "court_slug         10000 non-null object\n",
      "city               10000 non-null object\n",
      "state              10000 non-null object\n",
      "jurisdiction       9999 non-null object\n",
      "level_of_appeal    5128 non-null object\n",
      "dtypes: int64(2), object(13)\n",
      "memory usage: 693.5+ KB\n"
     ]
    }
   ],
   "source": [
    "merged.info()"
   ]
  },
  {
   "cell_type": "code",
   "execution_count": 72,
   "metadata": {},
   "outputs": [
    {
     "data": {
      "text/html": [
       "<div>\n",
       "<style scoped>\n",
       "    .dataframe tbody tr th:only-of-type {\n",
       "        vertical-align: middle;\n",
       "    }\n",
       "\n",
       "    .dataframe tbody tr th {\n",
       "        vertical-align: top;\n",
       "    }\n",
       "\n",
       "    .dataframe thead th {\n",
       "        text-align: right;\n",
       "    }\n",
       "</style>\n",
       "<table border=\"1\" class=\"dataframe\">\n",
       "  <thead>\n",
       "    <tr style=\"text-align: right;\">\n",
       "      <th></th>\n",
       "      <th></th>\n",
       "      <th>id</th>\n",
       "      <th>slug</th>\n",
       "      <th>file_number</th>\n",
       "      <th>date</th>\n",
       "      <th>created_date</th>\n",
       "      <th>updated_date</th>\n",
       "      <th>type</th>\n",
       "      <th>ecli</th>\n",
       "      <th>id</th>\n",
       "      <th>name</th>\n",
       "      <th>slug</th>\n",
       "      <th>city</th>\n",
       "      <th>state</th>\n",
       "      <th>jurisdiction</th>\n",
       "      <th>level_of_appeal</th>\n",
       "    </tr>\n",
       "  </thead>\n",
       "  <tbody>\n",
       "    <tr>\n",
       "      <td rowspan=\"5\" valign=\"top\">1</td>\n",
       "      <td>0</td>\n",
       "      <td>327286</td>\n",
       "      <td>bverfg-2020-03-25-2-bvr-11320</td>\n",
       "      <td>2 BvR 113/20</td>\n",
       "      <td>2020-03-25</td>\n",
       "      <td>2020-04-17T10:00:22Z</td>\n",
       "      <td>2020-04-17T10:06:52Z</td>\n",
       "      <td>Nichtannahmebeschluss</td>\n",
       "      <td>ECLI:DE:BVerfG:2020:rk20200325.2bvr011320</td>\n",
       "      <td>3</td>\n",
       "      <td>Bundesverfassungsgericht</td>\n",
       "      <td>bverfg</td>\n",
       "      <td>Karlsruhe</td>\n",
       "      <td>Baden-Württemberg</td>\n",
       "      <td>Verfassungsgerichtsbarkeit</td>\n",
       "      <td>Bundesgericht</td>\n",
       "    </tr>\n",
       "    <tr>\n",
       "      <td>1</td>\n",
       "      <td>327121</td>\n",
       "      <td>bverfg-2020-03-18-1-bvr-33720</td>\n",
       "      <td>1 BvR 337/20</td>\n",
       "      <td>2020-03-18</td>\n",
       "      <td>2020-04-09T10:00:18Z</td>\n",
       "      <td>2020-04-09T10:08:59Z</td>\n",
       "      <td>Nichtannahmebeschluss</td>\n",
       "      <td>ECLI:DE:BVerfG:2020:rk20200318.1bvr033720</td>\n",
       "      <td>3</td>\n",
       "      <td>Bundesverfassungsgericht</td>\n",
       "      <td>bverfg</td>\n",
       "      <td>Karlsruhe</td>\n",
       "      <td>Baden-Württemberg</td>\n",
       "      <td>Verfassungsgerichtsbarkeit</td>\n",
       "      <td>Bundesgericht</td>\n",
       "    </tr>\n",
       "    <tr>\n",
       "      <td>2</td>\n",
       "      <td>327530</td>\n",
       "      <td>bag-2020-03-12-6-azm-120</td>\n",
       "      <td>6 AZM 1/20</td>\n",
       "      <td>2020-03-12</td>\n",
       "      <td>2020-04-28T10:00:22Z</td>\n",
       "      <td>2020-04-28T10:05:03Z</td>\n",
       "      <td>Beschluss</td>\n",
       "      <td>ECLI:DE:BAG:2020:120320.B.6AZM1.20.0</td>\n",
       "      <td>7</td>\n",
       "      <td>Bundesarbeitsgericht</td>\n",
       "      <td>bag</td>\n",
       "      <td>Erfurt</td>\n",
       "      <td>Thüringen</td>\n",
       "      <td>Arbeitsgerichtsbarkeit</td>\n",
       "      <td>Bundesgericht</td>\n",
       "    </tr>\n",
       "    <tr>\n",
       "      <td>3</td>\n",
       "      <td>327118</td>\n",
       "      <td>bverfg-2020-03-11-2-bvl-517</td>\n",
       "      <td>2 BvL 5/17</td>\n",
       "      <td>2020-03-11</td>\n",
       "      <td>2020-04-09T10:00:17Z</td>\n",
       "      <td>2020-04-09T10:08:59Z</td>\n",
       "      <td>Beschluss</td>\n",
       "      <td>ECLI:DE:BVerfG:2020:ls20200311.2bvl000517</td>\n",
       "      <td>3</td>\n",
       "      <td>Bundesverfassungsgericht</td>\n",
       "      <td>bverfg</td>\n",
       "      <td>Karlsruhe</td>\n",
       "      <td>Baden-Württemberg</td>\n",
       "      <td>Verfassungsgerichtsbarkeit</td>\n",
       "      <td>Bundesgericht</td>\n",
       "    </tr>\n",
       "    <tr>\n",
       "      <td>4</td>\n",
       "      <td>326495</td>\n",
       "      <td>bverfg-2020-03-05-2-bvr-210018</td>\n",
       "      <td>2 BvR 2100/18</td>\n",
       "      <td>2020-03-05</td>\n",
       "      <td>2020-03-12T11:00:16Z</td>\n",
       "      <td>2020-03-12T11:05:08Z</td>\n",
       "      <td>Einstweilige Anordnung</td>\n",
       "      <td>ECLI:DE:BVerfG:2020:rk20200305.2bvr210018</td>\n",
       "      <td>3</td>\n",
       "      <td>Bundesverfassungsgericht</td>\n",
       "      <td>bverfg</td>\n",
       "      <td>Karlsruhe</td>\n",
       "      <td>Baden-Württemberg</td>\n",
       "      <td>Verfassungsgerichtsbarkeit</td>\n",
       "      <td>Bundesgericht</td>\n",
       "    </tr>\n",
       "  </tbody>\n",
       "</table>\n",
       "</div>"
      ],
      "text/plain": [
       "         id                            slug    file_number        date  \\\n",
       "1 0  327286   bverfg-2020-03-25-2-bvr-11320   2 BvR 113/20  2020-03-25   \n",
       "  1  327121   bverfg-2020-03-18-1-bvr-33720   1 BvR 337/20  2020-03-18   \n",
       "  2  327530        bag-2020-03-12-6-azm-120     6 AZM 1/20  2020-03-12   \n",
       "  3  327118     bverfg-2020-03-11-2-bvl-517     2 BvL 5/17  2020-03-11   \n",
       "  4  326495  bverfg-2020-03-05-2-bvr-210018  2 BvR 2100/18  2020-03-05   \n",
       "\n",
       "             created_date          updated_date                    type  \\\n",
       "1 0  2020-04-17T10:00:22Z  2020-04-17T10:06:52Z   Nichtannahmebeschluss   \n",
       "  1  2020-04-09T10:00:18Z  2020-04-09T10:08:59Z   Nichtannahmebeschluss   \n",
       "  2  2020-04-28T10:00:22Z  2020-04-28T10:05:03Z               Beschluss   \n",
       "  3  2020-04-09T10:00:17Z  2020-04-09T10:08:59Z               Beschluss   \n",
       "  4  2020-03-12T11:00:16Z  2020-03-12T11:05:08Z  Einstweilige Anordnung   \n",
       "\n",
       "                                          ecli  id                      name  \\\n",
       "1 0  ECLI:DE:BVerfG:2020:rk20200325.2bvr011320   3  Bundesverfassungsgericht   \n",
       "  1  ECLI:DE:BVerfG:2020:rk20200318.1bvr033720   3  Bundesverfassungsgericht   \n",
       "  2       ECLI:DE:BAG:2020:120320.B.6AZM1.20.0   7      Bundesarbeitsgericht   \n",
       "  3  ECLI:DE:BVerfG:2020:ls20200311.2bvl000517   3  Bundesverfassungsgericht   \n",
       "  4  ECLI:DE:BVerfG:2020:rk20200305.2bvr210018   3  Bundesverfassungsgericht   \n",
       "\n",
       "       slug       city              state                jurisdiction  \\\n",
       "1 0  bverfg  Karlsruhe  Baden-Württemberg  Verfassungsgerichtsbarkeit   \n",
       "  1  bverfg  Karlsruhe  Baden-Württemberg  Verfassungsgerichtsbarkeit   \n",
       "  2     bag     Erfurt          Thüringen      Arbeitsgerichtsbarkeit   \n",
       "  3  bverfg  Karlsruhe  Baden-Württemberg  Verfassungsgerichtsbarkeit   \n",
       "  4  bverfg  Karlsruhe  Baden-Württemberg  Verfassungsgerichtsbarkeit   \n",
       "\n",
       "    level_of_appeal  \n",
       "1 0   Bundesgericht  \n",
       "  1   Bundesgericht  \n",
       "  2   Bundesgericht  \n",
       "  3   Bundesgericht  \n",
       "  4   Bundesgericht  "
      ]
     },
     "execution_count": 72,
     "metadata": {},
     "output_type": "execute_result"
    }
   ],
   "source": [
    "merged.head()"
   ]
  },
  {
   "cell_type": "markdown",
   "metadata": {},
   "source": [
    "We can now change column names:"
   ]
  },
  {
   "cell_type": "code",
   "execution_count": 74,
   "metadata": {},
   "outputs": [],
   "source": [
    "merged.columns = ['case_id', 'case_slug', 'file_number', 'date', 'created_date', 'updated_date',\n",
    "       'type', 'ecli', 'court_id', 'court_name', 'court_slug', 'city', 'state', 'jurisdiction',\n",
    "       'level_of_appeal']"
   ]
  },
  {
   "cell_type": "markdown",
   "metadata": {},
   "source": [
    "Finally, we save the DataFrame to a merged file"
   ]
  },
  {
   "cell_type": "code",
   "execution_count": 43,
   "metadata": {},
   "outputs": [],
   "source": [
    "merged.to_csv(r\"C:\\Users\\celio\\My Projects\\Guided Projects\\Bewerbung\\Open Legal Data\\merged.csv\")"
   ]
  },
  {
   "cell_type": "markdown",
   "metadata": {},
   "source": [
    "# Analysis\n",
    "\n",
    "Since the scope of this project is not analyzing the data, this is just a superficial analysis. However, at the present state of the merged DataFrame, some simple things can already be visualized."
   ]
  },
  {
   "cell_type": "markdown",
   "metadata": {},
   "source": [
    "## Which Bundegericht has the most cases ?"
   ]
  },
  {
   "cell_type": "code",
   "execution_count": 80,
   "metadata": {},
   "outputs": [
    {
     "data": {
      "text/plain": [
       "<matplotlib.axes._subplots.AxesSubplot at 0x667e7f0>"
      ]
     },
     "execution_count": 80,
     "metadata": {},
     "output_type": "execute_result"
    },
    {
     "data": {
      "image/png": "[encoded data removed]",
      "text/plain": [
       "<Figure size 936x504 with 1 Axes>"
      ]
     },
     "metadata": {
      "needs_background": "light"
     },
     "output_type": "display_data"
    }
   ],
   "source": [
    "bundesgerichte = merged[merged[\"court_name\"].str.contains(\"Bundes\")]\n",
    "bundesgerichte[\"court_name\"].value_counts().plot.bar(figsize=(13,7), \n",
    "                                                     title = \"Number of Cases by Federal Courts\",\n",
    "                                                   fontsize=\"x-large\",rot=45,)"
   ]
  },
  {
   "cell_type": "markdown",
   "metadata": {},
   "source": [
    "## Most Prolific Courts By Jurisdiction\n",
    "\n",
    "We won't include Federal Courts\n",
    "\n",
    "**Amtsgerichte**"
   ]
  },
  {
   "cell_type": "code",
   "execution_count": 84,
   "metadata": {},
   "outputs": [
    {
     "data": {
      "text/plain": [
       "<matplotlib.axes._subplots.AxesSubplot at 0x1c5dbd10>"
      ]
     },
     "execution_count": 84,
     "metadata": {},
     "output_type": "execute_result"
    },
    {
     "data": {
      "image/png": "[encoded data removed]",
      "text/plain": [
       "<Figure size 936x504 with 1 Axes>"
      ]
     },
     "metadata": {
      "needs_background": "light"
     },
     "output_type": "display_data"
    }
   ],
   "source": [
    "amtsgericht = merged[merged[\"court_name\"].str.contains(\"Amtsgericht\")]\n",
    "amtsgericht[\"court_name\"].value_counts().sort_values(ascending = False).head(10).plot.barh(figsize=(13,7),\n",
    "                                                                                title = \"Most Prolific Amtsgerichte\")"
   ]
  },
  {
   "cell_type": "markdown",
   "metadata": {},
   "source": [
    "**Arbeitsgerichte**"
   ]
  },
  {
   "cell_type": "code",
   "execution_count": 86,
   "metadata": {},
   "outputs": [
    {
     "data": {
      "text/plain": [
       "<matplotlib.axes._subplots.AxesSubplot at 0x1c634c10>"
      ]
     },
     "execution_count": 86,
     "metadata": {},
     "output_type": "execute_result"
    },
    {
     "data": {
      "image/png": "[encoded data removed]",
      "text/plain": [
       "<Figure size 936x504 with 1 Axes>"
      ]
     },
     "metadata": {
      "needs_background": "light"
     },
     "output_type": "display_data"
    }
   ],
   "source": [
    "arbeitsgerichte = merged[merged[\"court_name\"].str.contains(\"Arbeitsgericht\")]\n",
    "arbeitsgerichte[\"court_name\"].value_counts().sort_values(ascending = False).head(10).plot.barh(figsize=(13,7),\n",
    "                                                                                             title = \"Most prolifi Arbeitsgericht\")"
   ]
  },
  {
   "cell_type": "markdown",
   "metadata": {},
   "source": [
    "**Verwaltungsgerichte**"
   ]
  },
  {
   "cell_type": "code",
   "execution_count": 87,
   "metadata": {},
   "outputs": [
    {
     "data": {
      "text/plain": [
       "<matplotlib.axes._subplots.AxesSubplot at 0x1c688110>"
      ]
     },
     "execution_count": 87,
     "metadata": {},
     "output_type": "execute_result"
    },
    {
     "data": {
      "image/png": "[encoded data removed]",
      "text/plain": [
       "<Figure size 936x504 with 1 Axes>"
      ]
     },
     "metadata": {
      "needs_background": "light"
     },
     "output_type": "display_data"
    }
   ],
   "source": [
    "verwaltungsgerichte = merged[merged[\"court_name\"].str.contains(\"Verwaltungsgericht\")]\n",
    "verwaltungsgerichte[\"court_name\"].value_counts().sort_values(ascending = False).head(10).plot.barh(figsize=(13,7),\n",
    "                                                                                                  title = \"Most prolific Verwaltungsgericht\")"
   ]
  },
  {
   "cell_type": "markdown",
   "metadata": {},
   "source": [
    "**Sozialgericht**"
   ]
  },
  {
   "cell_type": "code",
   "execution_count": 89,
   "metadata": {},
   "outputs": [
    {
     "data": {
      "text/plain": [
       "<matplotlib.axes._subplots.AxesSubplot at 0x20adad30>"
      ]
     },
     "execution_count": 89,
     "metadata": {},
     "output_type": "execute_result"
    },
    {
     "data": {
      "image/png": "[encoded data removed]",
      "text/plain": [
       "<Figure size 936x504 with 1 Axes>"
      ]
     },
     "metadata": {
      "needs_background": "light"
     },
     "output_type": "display_data"
    }
   ],
   "source": [
    "sozial = merged[merged[\"court_name\"].str.contains(\"Sozialgericht\")]\n",
    "sozial[\"court_name\"].value_counts().sort_values(ascending = False).head(10).plot.barh(figsize=(13,7),\n",
    "                                                                            title = \"Most Prolific Verwaltungsgericht\")"
   ]
  },
  {
   "cell_type": "markdown",
   "metadata": {},
   "source": [
    "**State Courts**"
   ]
  },
  {
   "cell_type": "code",
   "execution_count": 90,
   "metadata": {},
   "outputs": [
    {
     "data": {
      "text/plain": [
       "<matplotlib.axes._subplots.AxesSubplot at 0x20d5abd0>"
      ]
     },
     "execution_count": 90,
     "metadata": {},
     "output_type": "execute_result"
    },
    {
     "data": {
      "image/png": "[encoded data removed]",
      "text/plain": [
       "<Figure size 936x504 with 1 Axes>"
      ]
     },
     "metadata": {
      "needs_background": "light"
     },
     "output_type": "display_data"
    }
   ],
   "source": [
    "state = merged[(merged[\"court_name\"].str.contains(\"Ober\"))|(merged[\"court_name\"].str.contains(\"Ladngericht\"))]\n",
    "state[\"court_name\"].value_counts().sort_values(ascending = False).head(10).plot.barh(figsize=(13,7),\n",
    "                                                                           title = \"Most Prolific State Court\")"
   ]
  },
  {
   "cell_type": "markdown",
   "metadata": {},
   "source": [
    "# Conclusion\n",
    "\n",
    "In this project, we extracted and cleaned some data made available by the Open Legal Data API.\n",
    "\n",
    "We then cleaned some of the data, in order to make analysis easier, as well as proceeded some initial analysis. "
   ]
  }
 ],
 "metadata": {
  "kernelspec": {
   "display_name": "Python 3",
   "language": "python",
   "name": "python3"
  },
  "language_info": {
   "codemirror_mode": {
    "name": "ipython",
    "version": 3
   },
   "file_extension": ".py",
   "mimetype": "text/x-python",
   "name": "python",
   "nbconvert_exporter": "python",
   "pygments_lexer": "ipython3",
   "version": "3.7.4"
  }
 },
 "nbformat": 4,
 "nbformat_minor": 2
}
